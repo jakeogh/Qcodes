{
 "cells": [
  {
   "cell_type": "markdown",
   "id": "plain-primary",
   "metadata": {},
   "source": [
    "# Qcodes example with DelegateInstrument driver\n",
    "\n",
    "This notebooks explains how to use the `DelegateInstrument` driver.\n",
    "\n",
    "## About\n",
    "The goal of the `DelegateInstrument` driver is to make it easier to combine different parameters together into a new \"virtual\" instrument. Each parameter on a `DelegateInstrument` can point to one or more parameters on other instruments in the station.\n",
    "\n",
    "## Usage\n",
    "The way it's used is mainly by specifying an entry in the station YAML. For instance, let's say you want to use a magnetic field coil. The driver has a method set_field(value, block), that by default is set to block=True, which means the field is ramped in a way that blocks further execution until the desired value is reached. However, let's say you are creating a measurement in which you want the parameter to be set, and while the value is ramping, you want to measure other parameters. This can be done by using `DelegateInstrument` and specifying a custom `setter` for the parameter that gets and sets the magnetic field.\n",
    "\n",
    "By default, each parameter is represented by a `DelegateParameter`. The `DelegateInstrument` also supports passing multiple source parameters to a given parameter. In order to do this, simply specify multiple parameters in the dictionary values  under the `parameters` key.\n",
    "\n",
    "It can also add instrument channels, specified under a separate key `channels`, shown in the second half of the notebook."
   ]
  },
  {
   "cell_type": "code",
   "execution_count": 1,
   "id": "sapphire-quebec",
   "metadata": {
    "execution": {
     "iopub.execute_input": "2022-02-09T14:19:46.904391Z",
     "iopub.status.busy": "2022-02-09T14:19:46.902556Z",
     "iopub.status.idle": "2022-02-09T14:19:46.906592Z",
     "shell.execute_reply": "2022-02-09T14:19:46.906957Z"
    }
   },
   "outputs": [
    {
     "name": "stdout",
     "output_type": "stream",
     "text": [
      "Writing example.yaml\n"
     ]
    }
   ],
   "source": [
    "%%writefile example.yaml\n",
    "\n",
    "instruments:\n",
    "  field_X:\n",
    "    type: qcodes.tests.instrument_mocks.MockField\n",
    "\n",
    "  field:\n",
    "    type: qcodes.instrument.delegate.DelegateInstrument\n",
    "    init:\n",
    "      parameters:\n",
    "        X:\n",
    "          - field_X.field\n",
    "        ramp_rate:\n",
    "          - field_X.ramp_rate\n",
    "        combined:\n",
    "          - field_X.field\n",
    "          - field_X.ramp_rate\n",
    "      set_initial_values_on_load: true\n",
    "      initial_values:\n",
    "        ramp_rate: 1.0\n",
    "      setters:\n",
    "        X:\n",
    "          method: field_X.set_field\n",
    "          block: false"
   ]
  },
  {
   "cell_type": "code",
   "execution_count": 2,
   "id": "younger-newspaper",
   "metadata": {
    "execution": {
     "iopub.execute_input": "2022-02-09T14:19:46.910322Z",
     "iopub.status.busy": "2022-02-09T14:19:46.909867Z",
     "iopub.status.idle": "2022-02-09T14:19:47.148520Z",
     "shell.execute_reply": "2022-02-09T14:19:47.147996Z"
    }
   },
   "outputs": [],
   "source": [
    "import qcodes as qc"
   ]
  },
  {
   "cell_type": "code",
   "execution_count": 3,
   "id": "muslim-briefs",
   "metadata": {
    "execution": {
     "iopub.execute_input": "2022-02-09T14:19:47.162941Z",
     "iopub.status.busy": "2022-02-09T14:19:47.152043Z",
     "iopub.status.idle": "2022-02-09T14:19:47.165100Z",
     "shell.execute_reply": "2022-02-09T14:19:47.165454Z"
    }
   },
   "outputs": [],
   "source": [
    "station = qc.Station(config_file=\"example.yaml\")"
   ]
  },
  {
   "cell_type": "code",
   "execution_count": 4,
   "id": "greatest-antenna",
   "metadata": {
    "execution": {
     "iopub.execute_input": "2022-02-09T14:19:47.168886Z",
     "iopub.status.busy": "2022-02-09T14:19:47.168437Z",
     "iopub.status.idle": "2022-02-09T14:19:47.192720Z",
     "shell.execute_reply": "2022-02-09T14:19:47.192251Z"
    }
   },
   "outputs": [],
   "source": [
    "field_X = station.load_field_X()\n",
    "field = station.load_field(station=station)"
   ]
  },
  {
   "cell_type": "code",
   "execution_count": 5,
   "id": "every-playing",
   "metadata": {
    "execution": {
     "iopub.execute_input": "2022-02-09T14:19:47.201605Z",
     "iopub.status.busy": "2022-02-09T14:19:47.199825Z",
     "iopub.status.idle": "2022-02-09T14:19:47.203536Z",
     "shell.execute_reply": "2022-02-09T14:19:47.203931Z"
    }
   },
   "outputs": [
    {
     "data": {
      "text/plain": [
       "0.0"
      ]
     },
     "execution_count": 5,
     "metadata": {},
     "output_type": "execute_result"
    }
   ],
   "source": [
    "field.X()"
   ]
  },
  {
   "cell_type": "code",
   "execution_count": 6,
   "id": "undefined-worst",
   "metadata": {
    "execution": {
     "iopub.execute_input": "2022-02-09T14:19:47.207924Z",
     "iopub.status.busy": "2022-02-09T14:19:47.206881Z",
     "iopub.status.idle": "2022-02-09T14:19:47.208460Z",
     "shell.execute_reply": "2022-02-09T14:19:47.208822Z"
    }
   },
   "outputs": [],
   "source": [
    "field.X(1.)"
   ]
  },
  {
   "cell_type": "code",
   "execution_count": 7,
   "id": "recreational-suggestion",
   "metadata": {
    "execution": {
     "iopub.execute_input": "2022-02-09T14:19:47.212914Z",
     "iopub.status.busy": "2022-02-09T14:19:47.212440Z",
     "iopub.status.idle": "2022-02-09T14:19:47.214737Z",
     "shell.execute_reply": "2022-02-09T14:19:47.215101Z"
    }
   },
   "outputs": [
    {
     "data": {
      "text/plain": [
       "7.650454839070638e-05"
      ]
     },
     "execution_count": 7,
     "metadata": {},
     "output_type": "execute_result"
    }
   ],
   "source": [
    "field.X()"
   ]
  },
  {
   "cell_type": "code",
   "execution_count": 8,
   "id": "adopted-exchange",
   "metadata": {
    "execution": {
     "iopub.execute_input": "2022-02-09T14:19:47.219374Z",
     "iopub.status.busy": "2022-02-09T14:19:47.218721Z",
     "iopub.status.idle": "2022-02-09T14:19:47.221028Z",
     "shell.execute_reply": "2022-02-09T14:19:47.221396Z"
    }
   },
   "outputs": [
    {
     "data": {
      "text/plain": [
       "0.00018387635548909506"
      ]
     },
     "execution_count": 8,
     "metadata": {},
     "output_type": "execute_result"
    }
   ],
   "source": [
    "field.X()"
   ]
  },
  {
   "cell_type": "code",
   "execution_count": 9,
   "id": "bound-broadcasting",
   "metadata": {
    "execution": {
     "iopub.execute_input": "2022-02-09T14:19:47.225375Z",
     "iopub.status.busy": "2022-02-09T14:19:47.224910Z",
     "iopub.status.idle": "2022-02-09T14:19:47.227124Z",
     "shell.execute_reply": "2022-02-09T14:19:47.227485Z"
    }
   },
   "outputs": [
    {
     "data": {
      "text/plain": [
       "0.00028744538625081383"
      ]
     },
     "execution_count": 9,
     "metadata": {},
     "output_type": "execute_result"
    }
   ],
   "source": [
    "field.X()"
   ]
  },
  {
   "cell_type": "code",
   "execution_count": 10,
   "id": "casual-ghost",
   "metadata": {
    "execution": {
     "iopub.execute_input": "2022-02-09T14:19:47.231917Z",
     "iopub.status.busy": "2022-02-09T14:19:47.231105Z",
     "iopub.status.idle": "2022-02-09T14:19:47.233400Z",
     "shell.execute_reply": "2022-02-09T14:19:47.233742Z"
    }
   },
   "outputs": [
    {
     "data": {
      "text/plain": [
       "0.00039044618606567385"
      ]
     },
     "execution_count": 10,
     "metadata": {},
     "output_type": "execute_result"
    }
   ],
   "source": [
    "field.X()"
   ]
  },
  {
   "cell_type": "markdown",
   "id": "alike-process",
   "metadata": {},
   "source": [
    "As you can see, the field is now ramped in the background with the specified ramp rate. Now, let's try to create a measurement that uses this ability, and ramps the field in the background while measuring:"
   ]
  },
  {
   "cell_type": "code",
   "execution_count": 11,
   "id": "sustained-tiger",
   "metadata": {
    "execution": {
     "iopub.execute_input": "2022-02-09T14:19:47.236835Z",
     "iopub.status.busy": "2022-02-09T14:19:47.236391Z",
     "iopub.status.idle": "2022-02-09T14:19:47.241146Z",
     "shell.execute_reply": "2022-02-09T14:19:47.241496Z"
    }
   },
   "outputs": [],
   "source": [
    "field.ramp_rate(10.)\n",
    "field_X.field(0.0)"
   ]
  },
  {
   "cell_type": "code",
   "execution_count": 12,
   "id": "pharmaceutical-partition",
   "metadata": {
    "execution": {
     "iopub.execute_input": "2022-02-09T14:19:47.245530Z",
     "iopub.status.busy": "2022-02-09T14:19:47.245059Z",
     "iopub.status.idle": "2022-02-09T14:19:47.247237Z",
     "shell.execute_reply": "2022-02-09T14:19:47.247594Z"
    }
   },
   "outputs": [
    {
     "data": {
      "text/plain": [
       "0.0"
      ]
     },
     "execution_count": 12,
     "metadata": {},
     "output_type": "execute_result"
    }
   ],
   "source": [
    "field.X()"
   ]
  },
  {
   "cell_type": "code",
   "execution_count": 13,
   "id": "happy-ordinance",
   "metadata": {
    "execution": {
     "iopub.execute_input": "2022-02-09T14:19:47.252409Z",
     "iopub.status.busy": "2022-02-09T14:19:47.251936Z",
     "iopub.status.idle": "2022-02-09T14:19:48.471501Z",
     "shell.execute_reply": "2022-02-09T14:19:48.470989Z"
    }
   },
   "outputs": [
    {
     "name": "stdout",
     "output_type": "stream",
     "text": [
      "Starting experimental run with id: 60. \n"
     ]
    }
   ],
   "source": [
    "import time\n",
    "meas = qc.Measurement(station=station)\n",
    "meas.register_parameter(field.X)\n",
    "\n",
    "with meas.run() as datasaver:\n",
    "    for B in [0.1, 0.0]:\n",
    "        field.X(B)\n",
    "        while field.X() != B:\n",
    "            datasaver.add_result((field.X, field.X()))\n",
    "            time.sleep(0.01)\n",
    "    datasaver.flush_data_to_database()"
   ]
  },
  {
   "cell_type": "code",
   "execution_count": 14,
   "id": "short-medium",
   "metadata": {
    "execution": {
     "iopub.execute_input": "2022-02-09T14:19:48.475395Z",
     "iopub.status.busy": "2022-02-09T14:19:48.474877Z",
     "iopub.status.idle": "2022-02-09T14:19:49.418141Z",
     "shell.execute_reply": "2022-02-09T14:19:49.418819Z"
    }
   },
   "outputs": [
    {
     "data": {
      "text/plain": [
       "<AxesSubplot:>"
      ]
     },
     "execution_count": 14,
     "metadata": {},
     "output_type": "execute_result"
    },
    {
     "data": {
      "image/png": "[encoded data removed]",
      "text/plain": [
       "<Figure size 432x288 with 1 Axes>"
      ]
     },
     "metadata": {
      "needs_background": "light"
     },
     "output_type": "display_data"
    }
   ],
   "source": [
    "datasaver.dataset.to_pandas_dataframe().plot()"
   ]
  },
  {
   "cell_type": "markdown",
   "id": "incomplete-vietnamese",
   "metadata": {},
   "source": [
    "When specifying multiple source parameters on a given parameter, the grouped parameter will automatically return a `namedtuple` that returns both values."
   ]
  },
  {
   "cell_type": "code",
   "execution_count": 15,
   "id": "dangerous-finder",
   "metadata": {
    "execution": {
     "iopub.execute_input": "2022-02-09T14:19:49.422052Z",
     "iopub.status.busy": "2022-02-09T14:19:49.421175Z",
     "iopub.status.idle": "2022-02-09T14:19:49.426846Z",
     "shell.execute_reply": "2022-02-09T14:19:49.427487Z"
    }
   },
   "outputs": [
    {
     "data": {
      "text/plain": [
       "combined(field=0.0, ramp_rate=10.0)"
      ]
     },
     "execution_count": 15,
     "metadata": {},
     "output_type": "execute_result"
    }
   ],
   "source": [
    "field.combined()"
   ]
  },
  {
   "cell_type": "markdown",
   "id": "consolidated-cooper",
   "metadata": {},
   "source": [
    "We can now also create a custom parameter that does a simple calculation based on the current parameters."
   ]
  },
  {
   "cell_type": "code",
   "execution_count": 16,
   "id": "designed-bloom",
   "metadata": {
    "execution": {
     "iopub.execute_input": "2022-02-09T14:19:49.431904Z",
     "iopub.status.busy": "2022-02-09T14:19:49.429417Z",
     "iopub.status.idle": "2022-02-09T14:19:49.434094Z",
     "shell.execute_reply": "2022-02-09T14:19:49.433405Z"
    }
   },
   "outputs": [],
   "source": [
    "import numpy as np\n",
    "\n",
    "def calculate_ramp_time(X, ramp_rate):\n",
    "    \"\"\"Calculate ramp time in seconds\"\"\"\n",
    "    dfield = np.abs(field.target_field - X)\n",
    "    return 60. * dfield/ramp_rate"
   ]
  },
  {
   "cell_type": "code",
   "execution_count": 17,
   "id": "disabled-logic",
   "metadata": {
    "execution": {
     "iopub.execute_input": "2022-02-09T14:19:49.437910Z",
     "iopub.status.busy": "2022-02-09T14:19:49.437460Z",
     "iopub.status.idle": "2022-02-09T14:19:49.439623Z",
     "shell.execute_reply": "2022-02-09T14:19:49.438980Z"
    },
    "scrolled": true
   },
   "outputs": [],
   "source": [
    "field._create_and_add_parameter(\n",
    "    group_name=\"ramp_time\",\n",
    "    station=station,\n",
    "    paths=[\"field_X.field\", \"field_X.ramp_rate\"],\n",
    "    formatter=calculate_ramp_time\n",
    ")"
   ]
  },
  {
   "cell_type": "code",
   "execution_count": 18,
   "id": "adverse-february",
   "metadata": {
    "execution": {
     "iopub.execute_input": "2022-02-09T14:19:49.443525Z",
     "iopub.status.busy": "2022-02-09T14:19:49.443012Z",
     "iopub.status.idle": "2022-02-09T14:19:49.445627Z",
     "shell.execute_reply": "2022-02-09T14:19:49.445227Z"
    }
   },
   "outputs": [
    {
     "data": {
      "text/plain": [
       "6.0"
      ]
     },
     "execution_count": 18,
     "metadata": {},
     "output_type": "execute_result"
    }
   ],
   "source": [
    "field.ramp_rate(1.0)\n",
    "field.target_field = 0.1\n",
    "field.ramp_time()"
   ]
  },
  {
   "cell_type": "code",
   "execution_count": 19,
   "id": "statutory-xerox",
   "metadata": {
    "execution": {
     "iopub.execute_input": "2022-02-09T14:19:49.448717Z",
     "iopub.status.busy": "2022-02-09T14:19:49.448271Z",
     "iopub.status.idle": "2022-02-09T14:19:49.450403Z",
     "shell.execute_reply": "2022-02-09T14:19:49.450004Z"
    }
   },
   "outputs": [],
   "source": [
    "field.X(0.1)"
   ]
  },
  {
   "cell_type": "code",
   "execution_count": 20,
   "id": "varying-auditor",
   "metadata": {
    "execution": {
     "iopub.execute_input": "2022-02-09T14:19:49.453976Z",
     "iopub.status.busy": "2022-02-09T14:19:49.453524Z",
     "iopub.status.idle": "2022-02-09T14:19:49.456009Z",
     "shell.execute_reply": "2022-02-09T14:19:49.455577Z"
    }
   },
   "outputs": [
    {
     "data": {
      "text/plain": [
       "5.9953343868255615"
      ]
     },
     "execution_count": 20,
     "metadata": {},
     "output_type": "execute_result"
    }
   ],
   "source": [
    "field.ramp_time()"
   ]
  },
  {
   "cell_type": "code",
   "execution_count": 21,
   "id": "chubby-nickel",
   "metadata": {
    "execution": {
     "iopub.execute_input": "2022-02-09T14:19:49.458951Z",
     "iopub.status.busy": "2022-02-09T14:19:49.458501Z",
     "iopub.status.idle": "2022-02-09T14:19:50.464133Z",
     "shell.execute_reply": "2022-02-09T14:19:50.464566Z"
    }
   },
   "outputs": [
    {
     "data": {
      "text/plain": [
       "4.988214731216431"
      ]
     },
     "execution_count": 21,
     "metadata": {},
     "output_type": "execute_result"
    }
   ],
   "source": [
    "import time\n",
    "time.sleep(1.)\n",
    "field.ramp_time()"
   ]
  },
  {
   "cell_type": "code",
   "execution_count": 22,
   "id": "italian-liberty",
   "metadata": {
    "execution": {
     "iopub.execute_input": "2022-02-09T14:19:50.468192Z",
     "iopub.status.busy": "2022-02-09T14:19:50.467728Z",
     "iopub.status.idle": "2022-02-09T14:19:51.473143Z",
     "shell.execute_reply": "2022-02-09T14:19:51.473573Z"
    }
   },
   "outputs": [
    {
     "data": {
      "text/plain": [
       "3.979252815246582"
      ]
     },
     "execution_count": 22,
     "metadata": {},
     "output_type": "execute_result"
    }
   ],
   "source": [
    "import time\n",
    "time.sleep(1.)\n",
    "field.ramp_time()"
   ]
  },
  {
   "cell_type": "markdown",
   "id": "6cdf519e",
   "metadata": {},
   "source": [
    "# Devices with channels"
   ]
  },
  {
   "cell_type": "markdown",
   "id": "2202ddf4",
   "metadata": {},
   "source": [
    "The YAML file below specifies the instruments with the channels/parameters we wish to group into a new instrument, here called \"device\". The first example simply adds the channel 'as is' using self.add_submodule, while the readout parameter is added as a DelegateParameter."
   ]
  },
  {
   "cell_type": "code",
   "execution_count": 23,
   "id": "fa20d9a6",
   "metadata": {
    "execution": {
     "iopub.execute_input": "2022-02-09T14:19:51.479320Z",
     "iopub.status.busy": "2022-02-09T14:19:51.478766Z",
     "iopub.status.idle": "2022-02-09T14:19:51.481161Z",
     "shell.execute_reply": "2022-02-09T14:19:51.481530Z"
    }
   },
   "outputs": [
    {
     "name": "stdout",
     "output_type": "stream",
     "text": [
      "Overwriting example.yaml\n"
     ]
    }
   ],
   "source": [
    "%%writefile example.yaml\n",
    "\n",
    "instruments:\n",
    "  lockin:\n",
    "    type: qcodes.tests.instrument_mocks.MockLockin\n",
    "\n",
    "  dac:\n",
    "    type: qcodes.tests.instrument_mocks.MockDAC   \n",
    "\n",
    "  device:\n",
    "    type: qcodes.instrument.delegate.DelegateInstrument\n",
    "    init:\n",
    "      parameters:\n",
    "        readout: lockin.X\n",
    "      channels:\n",
    "        gate_1: dac.ch01\n",
    "      set_initial_values_on_load: true\n",
    "      initial_values:\n",
    "        readout: 1e-5\n",
    "        gate_1.voltage.post_delay: 0.01"
   ]
  },
  {
   "cell_type": "code",
   "execution_count": 24,
   "id": "228f1dfe",
   "metadata": {
    "execution": {
     "iopub.execute_input": "2022-02-09T14:19:51.484813Z",
     "iopub.status.busy": "2022-02-09T14:19:51.484365Z",
     "iopub.status.idle": "2022-02-09T14:19:51.556297Z",
     "shell.execute_reply": "2022-02-09T14:19:51.556729Z"
    }
   },
   "outputs": [],
   "source": [
    "station = qc.Station(config_file=\"example.yaml\")"
   ]
  },
  {
   "cell_type": "code",
   "execution_count": 25,
   "id": "a3a2c37f",
   "metadata": {
    "execution": {
     "iopub.execute_input": "2022-02-09T14:19:51.560855Z",
     "iopub.status.busy": "2022-02-09T14:19:51.560340Z",
     "iopub.status.idle": "2022-02-09T14:19:51.593804Z",
     "shell.execute_reply": "2022-02-09T14:19:51.593316Z"
    }
   },
   "outputs": [],
   "source": [
    "lockin = station.load_lockin()\n",
    "dac = station.load_dac()\n",
    "device = station.load_device(station=station)"
   ]
  },
  {
   "cell_type": "code",
   "execution_count": 26,
   "id": "3061b0da",
   "metadata": {
    "execution": {
     "iopub.execute_input": "2022-02-09T14:19:51.598795Z",
     "iopub.status.busy": "2022-02-09T14:19:51.597576Z",
     "iopub.status.idle": "2022-02-09T14:19:51.600679Z",
     "shell.execute_reply": "2022-02-09T14:19:51.600230Z"
    }
   },
   "outputs": [
    {
     "name": "stdout",
     "output_type": "stream",
     "text": [
      "<MockDACChannel: dac_ch01 of MockDAC: dac>\n",
      "0.01\n"
     ]
    }
   ],
   "source": [
    "print(device.gate_1)\n",
    "print(device.gate_1.voltage.post_delay)"
   ]
  },
  {
   "cell_type": "code",
   "execution_count": 27,
   "id": "f73bca4e",
   "metadata": {
    "execution": {
     "iopub.execute_input": "2022-02-09T14:19:51.603987Z",
     "iopub.status.busy": "2022-02-09T14:19:51.603516Z",
     "iopub.status.idle": "2022-02-09T14:19:51.617193Z",
     "shell.execute_reply": "2022-02-09T14:19:51.617561Z"
    }
   },
   "outputs": [
    {
     "name": "stdout",
     "output_type": "stream",
     "text": [
      "0.0\n"
     ]
    },
    {
     "data": {
      "text/plain": [
       "-0.6"
      ]
     },
     "execution_count": 27,
     "metadata": {},
     "output_type": "execute_result"
    }
   ],
   "source": [
    "print(device.gate_1.voltage())\n",
    "device.gate_1.voltage(-0.6)\n",
    "device.gate_1.voltage()"
   ]
  },
  {
   "cell_type": "markdown",
   "id": "11764886",
   "metadata": {},
   "source": [
    "The second example adds a channel using a custom channel class, which takes the initial channel and its name as input and has a parameter current_valid_ranges."
   ]
  },
  {
   "cell_type": "code",
   "execution_count": 28,
   "id": "837584ac",
   "metadata": {
    "execution": {
     "iopub.execute_input": "2022-02-09T14:19:51.621916Z",
     "iopub.status.busy": "2022-02-09T14:19:51.621415Z",
     "iopub.status.idle": "2022-02-09T14:19:51.623634Z",
     "shell.execute_reply": "2022-02-09T14:19:51.624030Z"
    }
   },
   "outputs": [
    {
     "name": "stdout",
     "output_type": "stream",
     "text": [
      "Overwriting example.yaml\n"
     ]
    }
   ],
   "source": [
    "%%writefile example.yaml\n",
    "\n",
    "instruments:\n",
    "  lockin:\n",
    "    type: qcodes.tests.instrument_mocks.MockLockin\n",
    "\n",
    "  dac:\n",
    "    type: qcodes.tests.instrument_mocks.MockDAC   \n",
    "\n",
    "  device:\n",
    "    type: qcodes.instrument.delegate.DelegateInstrument\n",
    "    init:\n",
    "      parameters:\n",
    "        readout: lockin.X\n",
    "      channels:\n",
    "        type: qcodes.tests.instrument_mocks.MockCustomChannel\n",
    "        gate_1: \n",
    "          channel: dac.ch01\n",
    "          current_valid_range: [-0.5, 0]\n",
    "      set_initial_values_on_load: true\n",
    "      initial_values:\n",
    "        readout: 1e-5"
   ]
  },
  {
   "cell_type": "code",
   "execution_count": 29,
   "id": "c5552469",
   "metadata": {
    "execution": {
     "iopub.execute_input": "2022-02-09T14:19:51.627924Z",
     "iopub.status.busy": "2022-02-09T14:19:51.626941Z",
     "iopub.status.idle": "2022-02-09T14:19:51.628525Z",
     "shell.execute_reply": "2022-02-09T14:19:51.628895Z"
    }
   },
   "outputs": [],
   "source": [
    "lockin.close()\n",
    "dac.close()"
   ]
  },
  {
   "cell_type": "code",
   "execution_count": 30,
   "id": "f41de9ae",
   "metadata": {
    "execution": {
     "iopub.execute_input": "2022-02-09T14:19:51.632262Z",
     "iopub.status.busy": "2022-02-09T14:19:51.631808Z",
     "iopub.status.idle": "2022-02-09T14:19:51.667476Z",
     "shell.execute_reply": "2022-02-09T14:19:51.667066Z"
    }
   },
   "outputs": [],
   "source": [
    "station = qc.Station(config_file=\"example.yaml\")\n",
    "lockin = station.load_lockin()\n",
    "dac = station.load_dac()"
   ]
  },
  {
   "cell_type": "code",
   "execution_count": 31,
   "id": "10e46d2a",
   "metadata": {
    "execution": {
     "iopub.execute_input": "2022-02-09T14:19:51.670876Z",
     "iopub.status.busy": "2022-02-09T14:19:51.670436Z",
     "iopub.status.idle": "2022-02-09T14:19:51.683066Z",
     "shell.execute_reply": "2022-02-09T14:19:51.682667Z"
    }
   },
   "outputs": [],
   "source": [
    "device = station.load_device(station=station)"
   ]
  },
  {
   "cell_type": "code",
   "execution_count": 32,
   "id": "8532448f",
   "metadata": {
    "execution": {
     "iopub.execute_input": "2022-02-09T14:19:51.687277Z",
     "iopub.status.busy": "2022-02-09T14:19:51.686812Z",
     "iopub.status.idle": "2022-02-09T14:19:51.689069Z",
     "shell.execute_reply": "2022-02-09T14:19:51.689438Z"
    }
   },
   "outputs": [
    {
     "data": {
      "text/plain": [
       "<MockCustomChannel: dac_gate_1 of MockDAC: dac>"
      ]
     },
     "execution_count": 32,
     "metadata": {},
     "output_type": "execute_result"
    }
   ],
   "source": [
    "device.gate_1"
   ]
  },
  {
   "cell_type": "code",
   "execution_count": 33,
   "id": "9360fe10",
   "metadata": {
    "execution": {
     "iopub.execute_input": "2022-02-09T14:19:51.693504Z",
     "iopub.status.busy": "2022-02-09T14:19:51.692468Z",
     "iopub.status.idle": "2022-02-09T14:19:51.694047Z",
     "shell.execute_reply": "2022-02-09T14:19:51.694410Z"
    }
   },
   "outputs": [],
   "source": [
    "device.gate_1.voltage(-0.3)"
   ]
  },
  {
   "cell_type": "code",
   "execution_count": 34,
   "id": "f6bb661c",
   "metadata": {
    "execution": {
     "iopub.execute_input": "2022-02-09T14:19:51.698447Z",
     "iopub.status.busy": "2022-02-09T14:19:51.697977Z",
     "iopub.status.idle": "2022-02-09T14:19:51.700230Z",
     "shell.execute_reply": "2022-02-09T14:19:51.700593Z"
    }
   },
   "outputs": [
    {
     "data": {
      "text/plain": [
       "-0.3"
      ]
     },
     "execution_count": 34,
     "metadata": {},
     "output_type": "execute_result"
    }
   ],
   "source": [
    "device.gate_1.voltage()"
   ]
  },
  {
   "cell_type": "markdown",
   "id": "40bd4787",
   "metadata": {},
   "source": [
    "The MockCustomChannel has a parameter `current_valid_range`."
   ]
  },
  {
   "cell_type": "code",
   "execution_count": 35,
   "id": "7549c03d",
   "metadata": {
    "execution": {
     "iopub.execute_input": "2022-02-09T14:19:51.706176Z",
     "iopub.status.busy": "2022-02-09T14:19:51.704043Z",
     "iopub.status.idle": "2022-02-09T14:19:51.707986Z",
     "shell.execute_reply": "2022-02-09T14:19:51.708367Z"
    }
   },
   "outputs": [
    {
     "data": {
      "text/plain": [
       "[-0.5, 0]"
      ]
     },
     "execution_count": 35,
     "metadata": {},
     "output_type": "execute_result"
    }
   ],
   "source": [
    "device.gate_1.current_valid_range()"
   ]
  }
 ],
 "metadata": {
  "kernelspec": {
   "display_name": "Python 3.7.9 64-bit ('qcodes_fork': conda)",
   "name": "python379jvsc74a57bd02b540bc2d5f6bd8c1d4c354bd6559a26f5871610d8f84463e1d37eff37c7ba44"
  },
  "language_info": {
   "codemirror_mode": {
    "name": "ipython",
    "version": 3
   },
   "file_extension": ".py",
   "mimetype": "text/x-python",
   "name": "python",
   "nbconvert_exporter": "python",
   "pygments_lexer": "ipython3",
   "version": "3.9.10"
  }
 },
 "nbformat": 4,
 "nbformat_minor": 5
}
