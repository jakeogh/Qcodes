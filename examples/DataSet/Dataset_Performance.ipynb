{
 "cells": [
  {
   "cell_type": "markdown",
   "metadata": {},
   "source": [
    "# DataSet Performance\n",
    "\n",
    "This notebook shows the trade-off between inserting data into a database row-by-row and as binary blobs. Inserting the data row-by-row means that we have direct access to all the data and may perform queries directly on the values of the data. On the other hand, as we shall see, this is much slower than inserting the data directly as binary blobs."
   ]
  },
  {
   "cell_type": "markdown",
   "metadata": {},
   "source": [
    "First, we choose a new location for the database to ensure that we don't add a bunch of benchmarking data to the default one."
   ]
  },
  {
   "cell_type": "code",
   "execution_count": 1,
   "metadata": {
    "execution": {
     "iopub.execute_input": "2022-02-09T14:13:59.356970Z",
     "iopub.status.busy": "2022-02-09T14:13:59.356462Z",
     "iopub.status.idle": "2022-02-09T14:13:59.601009Z",
     "shell.execute_reply": "2022-02-09T14:13:59.601446Z"
    }
   },
   "outputs": [],
   "source": [
    "import os\n",
    "cwd = os.getcwd()\n",
    "import qcodes as qc\n",
    "qc.config[\"core\"][\"db_location\"] = os.path.join(cwd, 'testing.db')\n"
   ]
  },
  {
   "cell_type": "code",
   "execution_count": 2,
   "metadata": {
    "execution": {
     "iopub.execute_input": "2022-02-09T14:13:59.607958Z",
     "iopub.status.busy": "2022-02-09T14:13:59.607454Z",
     "iopub.status.idle": "2022-02-09T14:14:00.281611Z",
     "shell.execute_reply": "2022-02-09T14:14:00.282059Z"
    }
   },
   "outputs": [],
   "source": [
    "%matplotlib inline\n",
    "import time\n",
    "import matplotlib.pyplot as plt\n",
    "import numpy as np\n",
    "\n",
    "import qcodes as qc\n",
    "from qcodes.instrument.parameter import ManualParameter\n",
    "from qcodes.dataset.experiment_container import (Experiment,\n",
    "                                                 load_last_experiment,\n",
    "                                                 new_experiment)\n",
    "from qcodes.dataset.sqlite.database import initialise_database\n",
    "from qcodes import load_or_create_experiment\n",
    "from qcodes.dataset.measurements import Measurement"
   ]
  },
  {
   "cell_type": "code",
   "execution_count": 3,
   "metadata": {
    "execution": {
     "iopub.execute_input": "2022-02-09T14:14:00.285997Z",
     "iopub.status.busy": "2022-02-09T14:14:00.285531Z",
     "iopub.status.idle": "2022-02-09T14:14:00.353757Z",
     "shell.execute_reply": "2022-02-09T14:14:00.354104Z"
    }
   },
   "outputs": [
    {
     "name": "stdout",
     "output_type": "stream",
     "text": [
      "\r",
      "0it [00:00, ?it/s]"
     ]
    },
    {
     "name": "stdout",
     "output_type": "stream",
     "text": [
      "\r",
      "Upgrading database; v0 -> v1: : 0it [00:00, ?it/s]"
     ]
    },
    {
     "name": "stdout",
     "output_type": "stream",
     "text": [
      "\r",
      "Upgrading database; v0 -> v1: : 0it [00:00, ?it/s]"
     ]
    },
    {
     "name": "stdout",
     "output_type": "stream",
     "text": [
      "\n"
     ]
    },
    {
     "name": "stdout",
     "output_type": "stream",
     "text": [
      "\r",
      "  0%|          | 0/1 [00:00<?, ?it/s]"
     ]
    },
    {
     "name": "stdout",
     "output_type": "stream",
     "text": [
      "\r",
      "Upgrading database; v1 -> v2:   0%|          | 0/1 [00:00<?, ?it/s]"
     ]
    },
    {
     "name": "stdout",
     "output_type": "stream",
     "text": [
      "\r",
      "Upgrading database; v1 -> v2: 100%|██████████| 1/1 [00:00<00:00, 827.77it/s]"
     ]
    },
    {
     "name": "stdout",
     "output_type": "stream",
     "text": [
      "\n"
     ]
    },
    {
     "name": "stdout",
     "output_type": "stream",
     "text": [
      "\r",
      "0it [00:00, ?it/s]"
     ]
    },
    {
     "name": "stdout",
     "output_type": "stream",
     "text": [
      "\r",
      "Upgrading database; v2 -> v3: : 0it [00:00, ?it/s]"
     ]
    },
    {
     "name": "stdout",
     "output_type": "stream",
     "text": [
      "\r",
      "Upgrading database; v2 -> v3: : 0it [00:00, ?it/s]"
     ]
    },
    {
     "name": "stdout",
     "output_type": "stream",
     "text": [
      "\n"
     ]
    },
    {
     "name": "stdout",
     "output_type": "stream",
     "text": [
      "\r",
      "0it [00:00, ?it/s]"
     ]
    },
    {
     "name": "stdout",
     "output_type": "stream",
     "text": [
      "\r",
      "Upgrading database; v3 -> v4: : 0it [00:00, ?it/s]"
     ]
    },
    {
     "name": "stdout",
     "output_type": "stream",
     "text": [
      "\r",
      "Upgrading database; v3 -> v4: : 0it [00:00, ?it/s]"
     ]
    },
    {
     "name": "stdout",
     "output_type": "stream",
     "text": [
      "\n"
     ]
    },
    {
     "name": "stdout",
     "output_type": "stream",
     "text": [
      "\r",
      "  0%|          | 0/1 [00:00<?, ?it/s]"
     ]
    },
    {
     "name": "stdout",
     "output_type": "stream",
     "text": [
      "\r",
      "Upgrading database; v4 -> v5:   0%|          | 0/1 [00:00<?, ?it/s]"
     ]
    },
    {
     "name": "stdout",
     "output_type": "stream",
     "text": [
      "\r",
      "Upgrading database; v4 -> v5: 100%|██████████| 1/1 [00:00<00:00, 965.76it/s]"
     ]
    },
    {
     "name": "stdout",
     "output_type": "stream",
     "text": [
      "\n"
     ]
    },
    {
     "name": "stdout",
     "output_type": "stream",
     "text": [
      "\r",
      "0it [00:00, ?it/s]"
     ]
    },
    {
     "name": "stdout",
     "output_type": "stream",
     "text": [
      "\r",
      "Upgrading database; v5 -> v6: : 0it [00:00, ?it/s]"
     ]
    },
    {
     "name": "stdout",
     "output_type": "stream",
     "text": [
      "\r",
      "Upgrading database; v5 -> v6: : 0it [00:00, ?it/s]"
     ]
    },
    {
     "name": "stdout",
     "output_type": "stream",
     "text": [
      "\n"
     ]
    },
    {
     "name": "stdout",
     "output_type": "stream",
     "text": [
      "\r",
      "  0%|          | 0/1 [00:00<?, ?it/s]"
     ]
    },
    {
     "name": "stdout",
     "output_type": "stream",
     "text": [
      "\r",
      "Upgrading database; v6 -> v7:   0%|          | 0/1 [00:00<?, ?it/s]"
     ]
    },
    {
     "name": "stdout",
     "output_type": "stream",
     "text": [
      "\r",
      "Upgrading database; v6 -> v7: 100%|██████████| 1/1 [00:00<00:00, 333.44it/s]"
     ]
    },
    {
     "name": "stdout",
     "output_type": "stream",
     "text": [
      "\n"
     ]
    },
    {
     "name": "stdout",
     "output_type": "stream",
     "text": [
      "\r",
      "  0%|          | 0/1 [00:00<?, ?it/s]"
     ]
    },
    {
     "name": "stdout",
     "output_type": "stream",
     "text": [
      "\r",
      "Upgrading database; v7 -> v8:   0%|          | 0/1 [00:00<?, ?it/s]"
     ]
    },
    {
     "name": "stdout",
     "output_type": "stream",
     "text": [
      "\r",
      "Upgrading database; v7 -> v8: 100%|██████████| 1/1 [00:00<00:00, 988.52it/s]"
     ]
    },
    {
     "name": "stdout",
     "output_type": "stream",
     "text": [
      "\n"
     ]
    },
    {
     "name": "stdout",
     "output_type": "stream",
     "text": [
      "\r",
      "  0%|          | 0/1 [00:00<?, ?it/s]"
     ]
    },
    {
     "name": "stdout",
     "output_type": "stream",
     "text": [
      "\r",
      "Upgrading database; v8 -> v9:   0%|          | 0/1 [00:00<?, ?it/s]"
     ]
    },
    {
     "name": "stdout",
     "output_type": "stream",
     "text": [
      "\r",
      "Upgrading database; v8 -> v9: 100%|██████████| 1/1 [00:00<00:00, 1277.19it/s]"
     ]
    },
    {
     "name": "stdout",
     "output_type": "stream",
     "text": [
      "\n"
     ]
    }
   ],
   "source": [
    "initialise_database()\n",
    "exp = load_or_create_experiment(experiment_name='tutorial_exp', sample_name=\"no sample\")"
   ]
  },
  {
   "cell_type": "markdown",
   "metadata": {},
   "source": [
    "Here, we define a simple function to benchmark the time it takes to insert n points with either numeric or array data type.\n",
    "We will compare both the time used to call ``add_result`` and the time used for the full measurement."
   ]
  },
  {
   "cell_type": "code",
   "execution_count": 4,
   "metadata": {
    "execution": {
     "iopub.execute_input": "2022-02-09T14:14:00.361871Z",
     "iopub.status.busy": "2022-02-09T14:14:00.361407Z",
     "iopub.status.idle": "2022-02-09T14:14:00.363225Z",
     "shell.execute_reply": "2022-02-09T14:14:00.363573Z"
    }
   },
   "outputs": [],
   "source": [
    "def insert_data(paramtype, npoints, nreps=1):\n",
    "\n",
    "    meas = Measurement(exp=exp)\n",
    "\n",
    "    x1 = ManualParameter('x1')\n",
    "    x2 = ManualParameter('x2')\n",
    "    x3 = ManualParameter('x3')\n",
    "    y1 = ManualParameter('y1')\n",
    "    y2 = ManualParameter('y2')\n",
    "\n",
    "    meas.register_parameter(x1, paramtype=paramtype)\n",
    "    meas.register_parameter(x2, paramtype=paramtype)\n",
    "    meas.register_parameter(x3, paramtype=paramtype)\n",
    "    meas.register_parameter(y1, setpoints=[x1, x2, x3],\n",
    "                            paramtype=paramtype)\n",
    "    meas.register_parameter(y2, setpoints=[x1, x2, x3],\n",
    "                            paramtype=paramtype)\n",
    "    start = time.perf_counter()\n",
    "    with meas.run() as datasaver:\n",
    "        start_adding = time.perf_counter()\n",
    "        for i in range(nreps):\n",
    "            datasaver.add_result((x1, np.random.rand(npoints)),\n",
    "                                 (x2, np.random.rand(npoints)),\n",
    "                                 (x3, np.random.rand(npoints)),\n",
    "                                 (y1, np.random.rand(npoints)),\n",
    "                                 (y2, np.random.rand(npoints)))\n",
    "        stop_adding = time.perf_counter()\n",
    "        run_id = datasaver.run_id\n",
    "    stop = time.perf_counter()\n",
    "    tot_time = stop - start\n",
    "    add_time = stop_adding - start_adding\n",
    "    return tot_time, add_time, run_id"
   ]
  },
  {
   "cell_type": "markdown",
   "metadata": {},
   "source": [
    "## Comparison between numeric/array data and binary blob"
   ]
  },
  {
   "cell_type": "markdown",
   "metadata": {},
   "source": [
    "### Case1: Short experiment time"
   ]
  },
  {
   "cell_type": "code",
   "execution_count": 5,
   "metadata": {
    "execution": {
     "iopub.execute_input": "2022-02-09T14:14:00.369578Z",
     "iopub.status.busy": "2022-02-09T14:14:00.368743Z",
     "iopub.status.idle": "2022-02-09T14:14:00.999414Z",
     "shell.execute_reply": "2022-02-09T14:14:00.999829Z"
    }
   },
   "outputs": [
    {
     "name": "stdout",
     "output_type": "stream",
     "text": [
      "Starting experimental run with id: 1. \n",
      "Starting experimental run with id: 2. \n",
      "Starting experimental run with id: 3. \n",
      "Starting experimental run with id: 4. \n",
      "Starting experimental run with id: 5. \n",
      "Starting experimental run with id: 6. \n",
      "Starting experimental run with id: 7. \n"
     ]
    },
    {
     "name": "stdout",
     "output_type": "stream",
     "text": [
      "Starting experimental run with id: 8. \n",
      "Starting experimental run with id: 9. \n"
     ]
    },
    {
     "name": "stdout",
     "output_type": "stream",
     "text": [
      "Starting experimental run with id: 10. \n",
      "Starting experimental run with id: 11. \n"
     ]
    },
    {
     "name": "stdout",
     "output_type": "stream",
     "text": [
      "Starting experimental run with id: 12. \n",
      "Starting experimental run with id: 13. \n"
     ]
    },
    {
     "name": "stdout",
     "output_type": "stream",
     "text": [
      "Starting experimental run with id: 14. \n"
     ]
    }
   ],
   "source": [
    "sizes = [1,500,1000,2000,3000,4000,5000]\n",
    "t_numeric = []\n",
    "t_numeric_add = []\n",
    "t_array = []\n",
    "t_array_add = []\n",
    "for size in sizes:\n",
    "    tn, tna, run_id_n =  insert_data('numeric', size)\n",
    "    t_numeric.append(tn)\n",
    "    t_numeric_add.append(tna)\n",
    "\n",
    "    ta, taa, run_id_a =  insert_data('array', size)\n",
    "    t_array.append(ta)\n",
    "    t_array_add.append(taa)"
   ]
  },
  {
   "cell_type": "code",
   "execution_count": 6,
   "metadata": {
    "execution": {
     "iopub.execute_input": "2022-02-09T14:14:01.030684Z",
     "iopub.status.busy": "2022-02-09T14:14:01.007553Z",
     "iopub.status.idle": "2022-02-09T14:14:01.193995Z",
     "shell.execute_reply": "2022-02-09T14:14:01.194352Z"
    }
   },
   "outputs": [
    {
     "data": {
      "image/png": "[encoded data removed]",
      "text/plain": [
       "<Figure size 432x288 with 1 Axes>"
      ]
     },
     "metadata": {
      "needs_background": "light"
     },
     "output_type": "display_data"
    }
   ],
   "source": [
    "fig, ax = plt.subplots(1,1)\n",
    "ax.plot(sizes, t_numeric, 'o-', label='Inserting row-by-row')\n",
    "ax.plot(sizes, t_numeric_add, 'o-', label='Inserting row-by-row: add_result only')\n",
    "ax.plot(sizes, t_array, 'd-', label='Inserting as binary blob')\n",
    "ax.plot(sizes, t_array_add, 'd-', label='Inserting as binary blob: add_result only')\n",
    "ax.legend()\n",
    "ax.set_xlabel('Array length')\n",
    "ax.set_ylabel('Time (s)')\n",
    "fig.tight_layout()"
   ]
  },
  {
   "cell_type": "markdown",
   "metadata": {},
   "source": [
    "As shown in the latter figure, the time to setup and and close the experiment is approximately 0.4 sec. In case of small array sizes, the difference between inserting values of data as arrays and inserting them row-by-row is relatively unimportant. At larger array sizes, i.e. above 10000 points, the cost of writing data as individual datapoints starts to become important.\n"
   ]
  },
  {
   "cell_type": "markdown",
   "metadata": {},
   "source": [
    "### Case2: Long experiment time "
   ]
  },
  {
   "cell_type": "code",
   "execution_count": 7,
   "metadata": {
    "execution": {
     "iopub.execute_input": "2022-02-09T14:14:01.201019Z",
     "iopub.status.busy": "2022-02-09T14:14:01.200487Z",
     "iopub.status.idle": "2022-02-09T14:14:47.655931Z",
     "shell.execute_reply": "2022-02-09T14:14:47.655377Z"
    }
   },
   "outputs": [
    {
     "name": "stdout",
     "output_type": "stream",
     "text": [
      "Starting experimental run with id: 15. \n",
      "Starting experimental run with id: 16. \n",
      "Starting experimental run with id: 17. \n"
     ]
    },
    {
     "name": "stdout",
     "output_type": "stream",
     "text": [
      "Starting experimental run with id: 18. \n",
      "Starting experimental run with id: 19. \n"
     ]
    },
    {
     "name": "stdout",
     "output_type": "stream",
     "text": [
      "Starting experimental run with id: 20. \n",
      "Starting experimental run with id: 21. \n"
     ]
    },
    {
     "name": "stdout",
     "output_type": "stream",
     "text": [
      "Starting experimental run with id: 22. \n"
     ]
    },
    {
     "name": "stdout",
     "output_type": "stream",
     "text": [
      "Starting experimental run with id: 23. \n"
     ]
    },
    {
     "name": "stdout",
     "output_type": "stream",
     "text": [
      "Starting experimental run with id: 24. \n"
     ]
    },
    {
     "name": "stdout",
     "output_type": "stream",
     "text": [
      "Starting experimental run with id: 25. \n"
     ]
    },
    {
     "name": "stdout",
     "output_type": "stream",
     "text": [
      "Starting experimental run with id: 26. \n"
     ]
    },
    {
     "name": "stdout",
     "output_type": "stream",
     "text": [
      "Starting experimental run with id: 27. \n"
     ]
    },
    {
     "name": "stdout",
     "output_type": "stream",
     "text": [
      "Starting experimental run with id: 28. \n"
     ]
    }
   ],
   "source": [
    "sizes = [1,500,1000,2000,3000,4000,5000]\n",
    "nreps = 100\n",
    "t_numeric = []\n",
    "t_numeric_add = []\n",
    "t_numeric_run_ids = []\n",
    "t_array = []\n",
    "t_array_add = []\n",
    "t_array_run_ids = []\n",
    "for size in sizes:\n",
    "    tn, tna, run_id_n =  insert_data('numeric', size, nreps=nreps)\n",
    "    t_numeric.append(tn)\n",
    "    t_numeric_add.append(tna)\n",
    "    t_numeric_run_ids.append(run_id_n)\n",
    "\n",
    "    ta, taa, run_id_a =  insert_data('array', size, nreps=nreps)\n",
    "    t_array.append(ta)\n",
    "    t_array_add.append(taa)\n",
    "    t_array_run_ids.append(run_id_a)"
   ]
  },
  {
   "cell_type": "code",
   "execution_count": 8,
   "metadata": {
    "execution": {
     "iopub.execute_input": "2022-02-09T14:14:47.677989Z",
     "iopub.status.busy": "2022-02-09T14:14:47.661147Z",
     "iopub.status.idle": "2022-02-09T14:14:47.841031Z",
     "shell.execute_reply": "2022-02-09T14:14:47.840618Z"
    },
    "scrolled": true
   },
   "outputs": [
    {
     "data": {
      "image/png": "[encoded data removed]",
      "text/plain": [
       "<Figure size 432x288 with 1 Axes>"
      ]
     },
     "metadata": {
      "needs_background": "light"
     },
     "output_type": "display_data"
    }
   ],
   "source": [
    "fig, ax = plt.subplots(1,1)\n",
    "ax.plot(sizes, t_numeric, 'o-', label='Inserting row-by-row')\n",
    "ax.plot(sizes, t_numeric_add, 'o-', label='Inserting row-by-row: add_result only')\n",
    "ax.plot(sizes, t_array, 'd-', label='Inserting as binary blob')\n",
    "ax.plot(sizes, t_array_add, 'd-', label='Inserting as binary blob: add_result only')\n",
    "ax.legend()\n",
    "ax.set_xlabel('Array length')\n",
    "ax.set_ylabel('Time (s)')\n",
    "fig.tight_layout()"
   ]
  },
  {
   "cell_type": "markdown",
   "metadata": {},
   "source": [
    "However, as we increase the length of the experiment, as seen here by repeating the insertion 100 times, we see a big difference between inserting values of the data row-by-row and inserting it as a binary blob."
   ]
  },
  {
   "cell_type": "markdown",
   "metadata": {},
   "source": [
    "## Loading the data "
   ]
  },
  {
   "cell_type": "code",
   "execution_count": 9,
   "metadata": {
    "execution": {
     "iopub.execute_input": "2022-02-09T14:14:47.845284Z",
     "iopub.status.busy": "2022-02-09T14:14:47.844306Z",
     "iopub.status.idle": "2022-02-09T14:14:47.847083Z",
     "shell.execute_reply": "2022-02-09T14:14:47.846707Z"
    }
   },
   "outputs": [],
   "source": [
    "from qcodes.dataset.data_set import load_by_id"
   ]
  },
  {
   "cell_type": "markdown",
   "metadata": {},
   "source": [
    "As usual you can load the data by using the ``load_by_id`` function but you will notice that the different storage methods\n",
    "are reflected in shape of the data as it is retrieved. "
   ]
  },
  {
   "cell_type": "code",
   "execution_count": 10,
   "metadata": {
    "execution": {
     "iopub.execute_input": "2022-02-09T14:14:47.851091Z",
     "iopub.status.busy": "2022-02-09T14:14:47.850080Z",
     "iopub.status.idle": "2022-02-09T14:14:47.851627Z",
     "shell.execute_reply": "2022-02-09T14:14:47.852041Z"
    }
   },
   "outputs": [],
   "source": [
    "run_id_n = t_numeric_run_ids[0]\n",
    "run_id_a = t_array_run_ids[0]"
   ]
  },
  {
   "cell_type": "code",
   "execution_count": 11,
   "metadata": {
    "execution": {
     "iopub.execute_input": "2022-02-09T14:14:47.855129Z",
     "iopub.status.busy": "2022-02-09T14:14:47.854672Z",
     "iopub.status.idle": "2022-02-09T14:14:47.862408Z",
     "shell.execute_reply": "2022-02-09T14:14:47.862792Z"
    },
    "scrolled": true
   },
   "outputs": [
    {
     "data": {
      "text/plain": [
       "{'x1': {'x1': array([0.71467589, 0.71467589, 0.15705616, 0.15705616, 0.03481099,\n",
       "         0.03481099, 0.74571092, 0.74571092, 0.49029952, 0.49029952,\n",
       "         0.32326857, 0.32326857, 0.9624105 , 0.9624105 , 0.7544702 ,\n",
       "         0.7544702 , 0.11495821, 0.11495821, 0.93396267, 0.93396267,\n",
       "         0.75739254, 0.75739254, 0.77425313, 0.77425313, 0.59292156,\n",
       "         0.59292156, 0.30317747, 0.30317747, 0.43209982, 0.43209982,\n",
       "         0.72354143, 0.72354143, 0.41459025, 0.41459025, 0.01826112,\n",
       "         0.01826112, 0.28770296, 0.28770296, 0.70374045, 0.70374045,\n",
       "         0.70927276, 0.70927276, 0.01220316, 0.01220316, 0.52732474,\n",
       "         0.52732474, 0.18050806, 0.18050806, 0.71505135, 0.71505135,\n",
       "         0.44966814, 0.44966814, 0.13556099, 0.13556099, 0.2512282 ,\n",
       "         0.2512282 , 0.66818587, 0.66818587, 0.06668228, 0.06668228,\n",
       "         0.63016179, 0.63016179, 0.4720592 , 0.4720592 , 0.58441338,\n",
       "         0.58441338, 0.40426912, 0.40426912, 0.60839161, 0.60839161,\n",
       "         0.6576306 , 0.6576306 , 0.95359705, 0.95359705, 0.19929021,\n",
       "         0.19929021, 0.66275487, 0.66275487, 0.49374706, 0.49374706,\n",
       "         0.09862996, 0.09862996, 0.94238832, 0.94238832, 0.20648263,\n",
       "         0.20648263, 0.74535949, 0.74535949, 0.43449669, 0.43449669,\n",
       "         0.37715415, 0.37715415, 0.4305249 , 0.4305249 , 0.02712063,\n",
       "         0.02712063, 0.81021408, 0.81021408, 0.56369465, 0.56369465,\n",
       "         0.52019213, 0.52019213, 0.47794585, 0.47794585, 0.75688134,\n",
       "         0.75688134, 0.66890935, 0.66890935, 0.58950199, 0.58950199,\n",
       "         0.69806979, 0.69806979, 0.11380089, 0.11380089, 0.70492261,\n",
       "         0.70492261, 0.2347549 , 0.2347549 , 0.39923762, 0.39923762,\n",
       "         0.54314174, 0.54314174, 0.92611162, 0.92611162, 0.03783295,\n",
       "         0.03783295, 0.10361221, 0.10361221, 0.73906898, 0.73906898,\n",
       "         0.33370818, 0.33370818, 0.5013286 , 0.5013286 , 0.09133765,\n",
       "         0.09133765, 0.70475802, 0.70475802, 0.85900772, 0.85900772,\n",
       "         0.37956294, 0.37956294, 0.44294676, 0.44294676, 0.48767182,\n",
       "         0.48767182, 0.38075534, 0.38075534, 0.04692553, 0.04692553,\n",
       "         0.67460118, 0.67460118, 0.49304528, 0.49304528, 0.01132832,\n",
       "         0.01132832, 0.24322944, 0.24322944, 0.95564087, 0.95564087,\n",
       "         0.72107875, 0.72107875, 0.13163062, 0.13163062, 0.82841549,\n",
       "         0.82841549, 0.81250323, 0.81250323, 0.44793544, 0.44793544,\n",
       "         0.9603754 , 0.9603754 , 0.9764186 , 0.9764186 , 0.21730779,\n",
       "         0.21730779, 0.33832876, 0.33832876, 0.30938026, 0.30938026,\n",
       "         0.49067918, 0.49067918, 0.28216021, 0.28216021, 0.32167843,\n",
       "         0.32167843, 0.46758651, 0.46758651, 0.35264128, 0.35264128,\n",
       "         0.44297714, 0.44297714, 0.19272995, 0.19272995, 0.74248479,\n",
       "         0.74248479, 0.33291714, 0.33291714, 0.36875527, 0.36875527])}}"
      ]
     },
     "execution_count": 11,
     "metadata": {},
     "output_type": "execute_result"
    }
   ],
   "source": [
    "ds = load_by_id(run_id_n)\n",
    "ds.get_parameter_data('x1')"
   ]
  },
  {
   "cell_type": "markdown",
   "metadata": {},
   "source": [
    "And a dataset stored as binary arrays"
   ]
  },
  {
   "cell_type": "code",
   "execution_count": 12,
   "metadata": {
    "execution": {
     "iopub.execute_input": "2022-02-09T14:14:47.865859Z",
     "iopub.status.busy": "2022-02-09T14:14:47.865406Z",
     "iopub.status.idle": "2022-02-09T14:14:47.908726Z",
     "shell.execute_reply": "2022-02-09T14:14:47.909166Z"
    },
    "scrolled": true
   },
   "outputs": [
    {
     "data": {
      "text/plain": [
       "{'x1': {'x1': array([[0.06403882],\n",
       "         [0.06403882],\n",
       "         [0.1406398 ],\n",
       "         [0.1406398 ],\n",
       "         [0.89074937],\n",
       "         [0.89074937],\n",
       "         [0.38968138],\n",
       "         [0.38968138],\n",
       "         [0.49557254],\n",
       "         [0.49557254],\n",
       "         [0.59253714],\n",
       "         [0.59253714],\n",
       "         [0.59908261],\n",
       "         [0.59908261],\n",
       "         [0.32655095],\n",
       "         [0.32655095],\n",
       "         [0.99801481],\n",
       "         [0.99801481],\n",
       "         [0.23505101],\n",
       "         [0.23505101],\n",
       "         [0.81613337],\n",
       "         [0.81613337],\n",
       "         [0.98142529],\n",
       "         [0.98142529],\n",
       "         [0.3089454 ],\n",
       "         [0.3089454 ],\n",
       "         [0.22752809],\n",
       "         [0.22752809],\n",
       "         [0.31276819],\n",
       "         [0.31276819],\n",
       "         [0.23901262],\n",
       "         [0.23901262],\n",
       "         [0.46358834],\n",
       "         [0.46358834],\n",
       "         [0.80293111],\n",
       "         [0.80293111],\n",
       "         [0.85482973],\n",
       "         [0.85482973],\n",
       "         [0.99525743],\n",
       "         [0.99525743],\n",
       "         [0.42923824],\n",
       "         [0.42923824],\n",
       "         [0.41108818],\n",
       "         [0.41108818],\n",
       "         [0.56147726],\n",
       "         [0.56147726],\n",
       "         [0.77785585],\n",
       "         [0.77785585],\n",
       "         [0.72901098],\n",
       "         [0.72901098],\n",
       "         [0.61861223],\n",
       "         [0.61861223],\n",
       "         [0.33779638],\n",
       "         [0.33779638],\n",
       "         [0.06708416],\n",
       "         [0.06708416],\n",
       "         [0.02320804],\n",
       "         [0.02320804],\n",
       "         [0.7666277 ],\n",
       "         [0.7666277 ],\n",
       "         [0.4798511 ],\n",
       "         [0.4798511 ],\n",
       "         [0.59050723],\n",
       "         [0.59050723],\n",
       "         [0.33229494],\n",
       "         [0.33229494],\n",
       "         [0.04804228],\n",
       "         [0.04804228],\n",
       "         [0.67640912],\n",
       "         [0.67640912],\n",
       "         [0.95211573],\n",
       "         [0.95211573],\n",
       "         [0.11959175],\n",
       "         [0.11959175],\n",
       "         [0.86877547],\n",
       "         [0.86877547],\n",
       "         [0.18118561],\n",
       "         [0.18118561],\n",
       "         [0.25083594],\n",
       "         [0.25083594],\n",
       "         [0.54358986],\n",
       "         [0.54358986],\n",
       "         [0.08126334],\n",
       "         [0.08126334],\n",
       "         [0.8682011 ],\n",
       "         [0.8682011 ],\n",
       "         [0.41630944],\n",
       "         [0.41630944],\n",
       "         [0.28328577],\n",
       "         [0.28328577],\n",
       "         [0.8056219 ],\n",
       "         [0.8056219 ],\n",
       "         [0.0668218 ],\n",
       "         [0.0668218 ],\n",
       "         [0.07570983],\n",
       "         [0.07570983],\n",
       "         [0.91995078],\n",
       "         [0.91995078],\n",
       "         [0.3139785 ],\n",
       "         [0.3139785 ],\n",
       "         [0.52188491],\n",
       "         [0.52188491],\n",
       "         [0.72611428],\n",
       "         [0.72611428],\n",
       "         [0.91197408],\n",
       "         [0.91197408],\n",
       "         [0.69830007],\n",
       "         [0.69830007],\n",
       "         [0.50949302],\n",
       "         [0.50949302],\n",
       "         [0.45754298],\n",
       "         [0.45754298],\n",
       "         [0.96537998],\n",
       "         [0.96537998],\n",
       "         [0.58545382],\n",
       "         [0.58545382],\n",
       "         [0.28691565],\n",
       "         [0.28691565],\n",
       "         [0.64085838],\n",
       "         [0.64085838],\n",
       "         [0.14075856],\n",
       "         [0.14075856],\n",
       "         [0.89574139],\n",
       "         [0.89574139],\n",
       "         [0.82783141],\n",
       "         [0.82783141],\n",
       "         [0.01514862],\n",
       "         [0.01514862],\n",
       "         [0.77961913],\n",
       "         [0.77961913],\n",
       "         [0.74944018],\n",
       "         [0.74944018],\n",
       "         [0.70808315],\n",
       "         [0.70808315],\n",
       "         [0.61030621],\n",
       "         [0.61030621],\n",
       "         [0.19498894],\n",
       "         [0.19498894],\n",
       "         [0.17464377],\n",
       "         [0.17464377],\n",
       "         [0.09520111],\n",
       "         [0.09520111],\n",
       "         [0.66314248],\n",
       "         [0.66314248],\n",
       "         [0.64224119],\n",
       "         [0.64224119],\n",
       "         [0.29289082],\n",
       "         [0.29289082],\n",
       "         [0.74356896],\n",
       "         [0.74356896],\n",
       "         [0.1029363 ],\n",
       "         [0.1029363 ],\n",
       "         [0.3764965 ],\n",
       "         [0.3764965 ],\n",
       "         [0.54851645],\n",
       "         [0.54851645],\n",
       "         [0.43112891],\n",
       "         [0.43112891],\n",
       "         [0.75303463],\n",
       "         [0.75303463],\n",
       "         [0.33796141],\n",
       "         [0.33796141],\n",
       "         [0.5690036 ],\n",
       "         [0.5690036 ],\n",
       "         [0.06469163],\n",
       "         [0.06469163],\n",
       "         [0.530242  ],\n",
       "         [0.530242  ],\n",
       "         [0.54371952],\n",
       "         [0.54371952],\n",
       "         [0.87027992],\n",
       "         [0.87027992],\n",
       "         [0.78807427],\n",
       "         [0.78807427],\n",
       "         [0.03589705],\n",
       "         [0.03589705],\n",
       "         [0.95374441],\n",
       "         [0.95374441],\n",
       "         [0.9352613 ],\n",
       "         [0.9352613 ],\n",
       "         [0.6620572 ],\n",
       "         [0.6620572 ],\n",
       "         [0.54001223],\n",
       "         [0.54001223],\n",
       "         [0.27389132],\n",
       "         [0.27389132],\n",
       "         [0.64758621],\n",
       "         [0.64758621],\n",
       "         [0.2489761 ],\n",
       "         [0.2489761 ],\n",
       "         [0.98844852],\n",
       "         [0.98844852],\n",
       "         [0.36386207],\n",
       "         [0.36386207],\n",
       "         [0.19136238],\n",
       "         [0.19136238],\n",
       "         [0.87042519],\n",
       "         [0.87042519],\n",
       "         [0.79907709],\n",
       "         [0.79907709]])}}"
      ]
     },
     "execution_count": 12,
     "metadata": {},
     "output_type": "execute_result"
    }
   ],
   "source": [
    "ds = load_by_id(run_id_a)\n",
    "ds.get_parameter_data('x1')"
   ]
  },
  {
   "cell_type": "code",
   "execution_count": null,
   "metadata": {},
   "outputs": [],
   "source": []
  }
 ],
 "metadata": {
  "kernelspec": {
   "display_name": "Python 3",
   "language": "python",
   "name": "python3"
  },
  "language_info": {
   "codemirror_mode": {
    "name": "ipython",
    "version": 3
   },
   "file_extension": ".py",
   "mimetype": "text/x-python",
   "name": "python",
   "nbconvert_exporter": "python",
   "pygments_lexer": "ipython3",
   "version": "3.9.10"
  },
  "nbsphinx": {
   "timeout": 600
  },
  "toc": {
   "base_numbering": 1,
   "nav_menu": {},
   "number_sections": true,
   "sideBar": true,
   "skip_h1_title": false,
   "title_cell": "Table of Contents",
   "title_sidebar": "Contents",
   "toc_cell": false,
   "toc_position": {},
   "toc_section_display": true,
   "toc_window_display": false
  },
  "varInspector": {
   "cols": {
    "lenName": 16,
    "lenType": 16,
    "lenVar": 40
   },
   "kernels_config": {
    "python": {
     "delete_cmd_postfix": "",
     "delete_cmd_prefix": "del ",
     "library": "var_list.py",
     "varRefreshCmd": "print(var_dic_list())"
    },
    "r": {
     "delete_cmd_postfix": ") ",
     "delete_cmd_prefix": "rm(",
     "library": "var_list.r",
     "varRefreshCmd": "cat(var_dic_list()) "
    }
   },
   "types_to_exclude": [
    "module",
    "function",
    "builtin_function_or_method",
    "instance",
    "_Feature"
   ],
   "window_display": false
  }
 },
 "nbformat": 4,
 "nbformat_minor": 4
}
